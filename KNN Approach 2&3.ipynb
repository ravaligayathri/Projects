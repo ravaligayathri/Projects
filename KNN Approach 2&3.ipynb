{
 "cells": [
  {
   "cell_type": "code",
   "execution_count": 216,
   "metadata": {},
   "outputs": [],
   "source": [
    "from Bio import pairwise2,Phylo\n",
    "from Bio.Cluster import treecluster,kcluster\n",
    "import numpy as np\n",
    "import pandas as pd\n",
    "from sklearn.model_selection import train_test_split\n",
    "from scipy.cluster.hierarchy import linkage,dendrogram\n",
    "import matplotlib.pyplot as plt\n",
    "import os\n",
    "#Reading Alzheimers and Cancer siRNA sequence\n",
    "alist=[]\n",
    "file_loc = \"ASPsiDB.xlsx\"\n",
    "df1 = pd.read_excel(file_loc, 'Alzheimers',index_col=None, na_values=['NA'], usecols = \"C,G,H\")\n",
    "df2 = pd.read_excel(file_loc, 'Cancer',index_col=None, na_values=['NA'], usecols = \"C,G,H\")\n",
    "df3 = pd.read_excel(file_loc, 'ALS',index_col=None, na_values=['NA'], usecols = \"C,G,H\")\n",
    "\n",
    "#Data: siRNA,Disease\n",
    "alz= df1.iloc[::2, :]\n",
    "can = df2.iloc[::2, :]\n",
    "als = df3.iloc[::2, :]\n",
    "\n",
    "frames = [alz,can,als]\n",
    "\n",
    "#Final dataset with all siRNA and corresponding disease\n",
    "dataset = pd.concat(frames)\n"
   ]
  },
  {
   "cell_type": "code",
   "execution_count": 217,
   "metadata": {},
   "outputs": [],
   "source": [
    "X1=[]\n",
    "X2=[]\n",
    "X3=[]\n",
    "target=[]\n",
    "disease = {\n",
    "\"Alzheimers disease\" : 0,\n",
    "\"Cancer\" : 1,\n",
    "\"Amyotrophic Lateral Sclerosis (ALS)\" : 2,\n",
    "}\n",
    "dataset.Disease=dataset['Disease'].map(disease)\n",
    "dataset.Disease\n",
    "dataset.head()\n",
    "\n",
    "for index, row in dataset.iterrows():\n",
    "    X1.append(row['ASP-siRNA'])\n",
    "    X2.append(row['Disease'])\n",
    "    X3.append(row['Gene'])\n",
    "    \n"
   ]
  },
  {
   "cell_type": "code",
   "execution_count": 218,
   "metadata": {},
   "outputs": [
    {
     "name": "stdout",
     "output_type": "stream",
     "text": [
      "473\n",
      "473\n"
     ]
    }
   ],
   "source": [
    "print(len(X1))\n",
    "sizes = [len(rec) for rec in X1]\n",
    "print(len(sizes))\n"
   ]
  },
  {
   "cell_type": "code",
   "execution_count": 219,
   "metadata": {},
   "outputs": [
    {
     "data": {
      "image/png": "[encoded data removed]",
      "text/plain": [
       "<Figure size 432x288 with 1 Axes>"
      ]
     },
     "metadata": {},
     "output_type": "display_data"
    }
   ],
   "source": [
    "import pylab\n",
    "pylab.hist(sizes, bins=20)\n",
    "pylab.title(\"%i orchid sequences\\nLengths %i to %i\" \\\n",
    "            % (len(sizes),min(sizes),max(sizes)))\n",
    "pylab.xlabel(\"Sequence length (bp)\")\n",
    "pylab.ylabel(\"Count\")\n",
    "pylab.show()"
   ]
  },
  {
   "cell_type": "code",
   "execution_count": 220,
   "metadata": {},
   "outputs": [
    {
     "name": "stdout",
     "output_type": "stream",
     "text": [
      "389\n"
     ]
    }
   ],
   "source": [
    "X=[]\n",
    "for rec in X1:\n",
    "    if(len(rec)==19):\n",
    "        X.append(rec)\n",
    "        \n",
    "print(len(X))\n"
   ]
  },
  {
   "cell_type": "code",
   "execution_count": 221,
   "metadata": {},
   "outputs": [],
   "source": [
    "pre_dataset=dataset.loc[dataset['ASP-siRNA'].isin(X)]\n",
    "pre_dataset.head()\n",
    "X1=[]\n",
    "X2=[]\n",
    "X3=[]\n",
    "target=[]\n",
    "\n",
    "for index, row in pre_dataset.iterrows():\n",
    "    X1.append(row['ASP-siRNA'])\n",
    "    X2.append(row['Disease'])\n",
    "    X3.append(row['Gene'])\n",
    "    \n",
    "    "
   ]
  },
  {
   "cell_type": "code",
   "execution_count": 222,
   "metadata": {},
   "outputs": [
    {
     "data": {
      "text/html": [
       "<div>\n",
       "<style scoped>\n",
       "    .dataframe tbody tr th:only-of-type {\n",
       "        vertical-align: middle;\n",
       "    }\n",
       "\n",
       "    .dataframe tbody tr th {\n",
       "        vertical-align: top;\n",
       "    }\n",
       "\n",
       "    .dataframe thead th {\n",
       "        text-align: right;\n",
       "    }\n",
       "</style>\n",
       "<table border=\"1\" class=\"dataframe\">\n",
       "  <thead>\n",
       "    <tr style=\"text-align: right;\">\n",
       "      <th></th>\n",
       "      <th>Alignment Score</th>\n",
       "      <th>Gene Type</th>\n",
       "      <th>Disease Class</th>\n",
       "    </tr>\n",
       "  </thead>\n",
       "  <tbody>\n",
       "    <tr>\n",
       "      <th>0</th>\n",
       "      <td>10.0</td>\n",
       "      <td>1</td>\n",
       "      <td>00</td>\n",
       "    </tr>\n",
       "    <tr>\n",
       "      <th>1</th>\n",
       "      <td>10.0</td>\n",
       "      <td>1</td>\n",
       "      <td>00</td>\n",
       "    </tr>\n",
       "    <tr>\n",
       "      <th>2</th>\n",
       "      <td>18.0</td>\n",
       "      <td>0</td>\n",
       "      <td>00</td>\n",
       "    </tr>\n",
       "    <tr>\n",
       "      <th>3</th>\n",
       "      <td>11.0</td>\n",
       "      <td>1</td>\n",
       "      <td>00</td>\n",
       "    </tr>\n",
       "    <tr>\n",
       "      <th>4</th>\n",
       "      <td>17.0</td>\n",
       "      <td>0</td>\n",
       "      <td>00</td>\n",
       "    </tr>\n",
       "  </tbody>\n",
       "</table>\n",
       "</div>"
      ],
      "text/plain": [
       "   Alignment Score  Gene Type Disease Class\n",
       "0             10.0          1            00\n",
       "1             10.0          1            00\n",
       "2             18.0          0            00\n",
       "3             11.0          1            00\n",
       "4             17.0          0            00"
      ]
     },
     "execution_count": 222,
     "metadata": {},
     "output_type": "execute_result"
    }
   ],
   "source": [
    "x=[]\n",
    "y=[]\n",
    "x1=[]\n",
    "x2=[]\n",
    "\n",
    "\n",
    "for i, ele_1 in enumerate(X1):   #sirna pairs and alignments\n",
    "    for j, ele_2 in enumerate(X1):\n",
    "        if j >= i:\n",
    "            break\n",
    "        x.append(ele_1+'\\r\\n'+ele_2)\n",
    "        alignment_score=pairwise2.align.globalxx(ele_1,ele_2,score_only=True)\n",
    "        x1.append(alignment_score) \n",
    "        \n",
    "for i, ele_1 in enumerate(X3):   \n",
    "    for j, ele_2 in enumerate(X3):\n",
    "        if j >= i:\n",
    "            break\n",
    "        \n",
    "        if(ele_1==ele_2):    #Gene type same or not\n",
    "            x2.append(0)\n",
    "        else:\n",
    "            x2.append(1)\n",
    "        \n",
    "        \n",
    "for i, ele_1 in enumerate(X2):   #Disease\n",
    "    for j, ele_2 in enumerate(X2):\n",
    "        if j >= i:\n",
    "            break\n",
    "        a=str(ele_1)+str(ele_2)\n",
    "        y.append(a)\n",
    "        \n",
    "df = pd.DataFrame({'SiRNA Pairs':x})\n",
    "df2= pd.DataFrame({'Alignment Score':x1})\n",
    "df1= pd.DataFrame({'Gene Type':x2})\n",
    "df3= pd.DataFrame({'Disease Class':y})\n",
    "\n",
    "\n",
    "\n",
    "frames1 = [df2,df3]\n",
    "\n",
    "#Final dataset with all siRNA and corresponding disease\n",
    "result = pd.concat(frames1,axis=1)\n",
    "result.head()\n",
    "\n",
    "\n",
    "\n",
    "frames2=[df2,df1,df3]\n",
    "\n",
    "#Final dataset with all siRNA pairs and corresponding disease\n",
    "result1 = pd.concat(frames2,axis=1)\n",
    "result1.head()"
   ]
  },
  {
   "cell_type": "code",
   "execution_count": 240,
   "metadata": {},
   "outputs": [
    {
     "data": {
      "text/html": [
       "<div>\n",
       "<style scoped>\n",
       "    .dataframe tbody tr th:only-of-type {\n",
       "        vertical-align: middle;\n",
       "    }\n",
       "\n",
       "    .dataframe tbody tr th {\n",
       "        vertical-align: top;\n",
       "    }\n",
       "\n",
       "    .dataframe thead th {\n",
       "        text-align: right;\n",
       "    }\n",
       "</style>\n",
       "<table border=\"1\" class=\"dataframe\">\n",
       "  <thead>\n",
       "    <tr style=\"text-align: right;\">\n",
       "      <th></th>\n",
       "      <th>Alignment Score</th>\n",
       "      <th>Disease Class</th>\n",
       "    </tr>\n",
       "  </thead>\n",
       "  <tbody>\n",
       "    <tr>\n",
       "      <th>0</th>\n",
       "      <td>10.0</td>\n",
       "      <td>00</td>\n",
       "    </tr>\n",
       "    <tr>\n",
       "      <th>1</th>\n",
       "      <td>10.0</td>\n",
       "      <td>00</td>\n",
       "    </tr>\n",
       "    <tr>\n",
       "      <th>2</th>\n",
       "      <td>18.0</td>\n",
       "      <td>00</td>\n",
       "    </tr>\n",
       "    <tr>\n",
       "      <th>3</th>\n",
       "      <td>11.0</td>\n",
       "      <td>00</td>\n",
       "    </tr>\n",
       "    <tr>\n",
       "      <th>4</th>\n",
       "      <td>17.0</td>\n",
       "      <td>00</td>\n",
       "    </tr>\n",
       "  </tbody>\n",
       "</table>\n",
       "</div>"
      ],
      "text/plain": [
       "   Alignment Score Disease Class\n",
       "0             10.0            00\n",
       "1             10.0            00\n",
       "2             18.0            00\n",
       "3             11.0            00\n",
       "4             17.0            00"
      ]
     },
     "execution_count": 240,
     "metadata": {},
     "output_type": "execute_result"
    }
   ],
   "source": [
    "result = pd.concat(frames1,axis=1)\n",
    "result.head()"
   ]
  },
  {
   "cell_type": "code",
   "execution_count": 223,
   "metadata": {},
   "outputs": [
    {
     "name": "stdout",
     "output_type": "stream",
     "text": [
      "[[10.]\n",
      " [10.]\n",
      " [18.]\n",
      " ...\n",
      " [17.]\n",
      " [17.]\n",
      " [18.]]\n",
      "60372\n",
      "15094\n"
     ]
    }
   ],
   "source": [
    "A = result.iloc[:, :-1].values  \n",
    "B = result.iloc[:, 1].values \n",
    "\n",
    "\n",
    "print(A)\n",
    "\n",
    "from sklearn.model_selection import train_test_split\n",
    "X_train, x_test, y_train, y_test = train_test_split(A, B, test_size=0.2, random_state=42)\n",
    "\n",
    "print(len(X_train))\n",
    "print(len(x_test))\n",
    "\n",
    "\n",
    "\n"
   ]
  },
  {
   "cell_type": "code",
   "execution_count": 224,
   "metadata": {},
   "outputs": [
    {
     "data": {
      "text/plain": [
       "KNeighborsClassifier(algorithm='auto', leaf_size=30, metric='minkowski',\n",
       "           metric_params=None, n_jobs=1, n_neighbors=11, p=2,\n",
       "           weights='uniform')"
      ]
     },
     "execution_count": 224,
     "metadata": {},
     "output_type": "execute_result"
    }
   ],
   "source": [
    "from sklearn.preprocessing import StandardScaler  \n",
    "scaler = StandardScaler()  \n",
    "scaler.fit(X_train)\n",
    "\n",
    "X_train = scaler.transform(X_train)  \n",
    "x_test = scaler.transform(x_test)  \n",
    "\n",
    "\n",
    "from sklearn.neighbors import KNeighborsClassifier  \n",
    "classifier = KNeighborsClassifier(n_neighbors=11)  \n",
    "classifier.fit(X_train, y_train)  "
   ]
  },
  {
   "cell_type": "code",
   "execution_count": 225,
   "metadata": {},
   "outputs": [],
   "source": [
    "\n",
    "y_pred = classifier.predict(x_test)  "
   ]
  },
  {
   "cell_type": "code",
   "execution_count": 226,
   "metadata": {},
   "outputs": [
    {
     "name": "stdout",
     "output_type": "stream",
     "text": [
      "[[   0    2    0   33   13   57]\n",
      " [   0   16    0  127   56  341]\n",
      " [   0    0    0   69   31  552]\n",
      " [   0    1    0  479   95 1316]\n",
      " [   0    9    0  193   91 4021]\n",
      " [   0    0    0  370   31 7191]]\n",
      "             precision    recall  f1-score   support\n",
      "\n",
      "         00       0.00      0.00      0.00       105\n",
      "         10       0.57      0.03      0.06       540\n",
      "         11       0.00      0.00      0.00       652\n",
      "         20       0.38      0.25      0.30      1891\n",
      "         21       0.29      0.02      0.04      4314\n",
      "         22       0.53      0.95      0.68      7592\n",
      "\n",
      "avg / total       0.42      0.52      0.39     15094\n",
      "\n"
     ]
    },
    {
     "name": "stderr",
     "output_type": "stream",
     "text": [
      "/Users/ravs/anaconda3/lib/python3.6/site-packages/sklearn/metrics/classification.py:1135: UndefinedMetricWarning: Precision and F-score are ill-defined and being set to 0.0 in labels with no predicted samples.\n",
      "  'precision', 'predicted', average, warn_for)\n"
     ]
    }
   ],
   "source": [
    "from sklearn.metrics import classification_report, confusion_matrix  \n",
    "print(confusion_matrix(y_test, y_pred))  \n",
    "print(classification_report(y_test, y_pred))  "
   ]
  },
  {
   "cell_type": "code",
   "execution_count": 227,
   "metadata": {},
   "outputs": [],
   "source": [
    "error = []\n",
    "\n",
    "# Calculating error for K values between 1 and 40\n",
    "for i in range(1, 20):  \n",
    "    knn = KNeighborsClassifier(n_neighbors=i)\n",
    "    knn.fit(X_train, y_train)\n",
    "    pred_i = knn.predict(x_test)\n",
    "    error.append(np.mean(pred_i != y_test))"
   ]
  },
  {
   "cell_type": "code",
   "execution_count": 228,
   "metadata": {
    "scrolled": true
   },
   "outputs": [
    {
     "data": {
      "text/plain": [
       "Text(0,0.5,'Mean Error')"
      ]
     },
     "execution_count": 228,
     "metadata": {},
     "output_type": "execute_result"
    },
    {
     "data": {
      "image/png": "[encoded data removed]",
      "text/plain": [
       "<Figure size 864x432 with 1 Axes>"
      ]
     },
     "metadata": {},
     "output_type": "display_data"
    }
   ],
   "source": [
    "plt.figure(figsize=(12, 6))  \n",
    "plt.plot(range(1, 20), error, color='red', linestyle='dashed', marker='o',  \n",
    "         markerfacecolor='blue', markersize=10)\n",
    "plt.title('Error Rate K Value')  \n",
    "plt.xlabel('K Value')  \n",
    "plt.ylabel('Mean Error')  "
   ]
  },
  {
   "cell_type": "code",
   "execution_count": 230,
   "metadata": {},
   "outputs": [
    {
     "data": {
      "text/plain": [
       "0.5152378428514641"
      ]
     },
     "execution_count": 230,
     "metadata": {},
     "output_type": "execute_result"
    }
   ],
   "source": [
    "from sklearn.metrics import accuracy_score\n",
    "accuracy_score(y_test, y_pred)"
   ]
  },
  {
   "cell_type": "code",
   "execution_count": 231,
   "metadata": {},
   "outputs": [
    {
     "name": "stdout",
     "output_type": "stream",
     "text": [
      "[[10.  1.]\n",
      " [10.  1.]\n",
      " [18.  0.]\n",
      " ...\n",
      " [17.  0.]\n",
      " [17.  0.]\n",
      " [18.  0.]]\n"
     ]
    }
   ],
   "source": [
    "C = result1.iloc[:, :-1].values  \n",
    "D = result1.iloc[:, 2].values \n",
    "\n",
    "\n",
    "print(C)\n",
    "\n",
    "from sklearn.model_selection import train_test_split\n",
    "A_train, a_test, b_train, b_test = train_test_split(C, D, test_size=0.2, random_state=42)\n"
   ]
  },
  {
   "cell_type": "code",
   "execution_count": 234,
   "metadata": {},
   "outputs": [
    {
     "data": {
      "text/plain": [
       "KNeighborsClassifier(algorithm='auto', leaf_size=30, metric='minkowski',\n",
       "           metric_params=None, n_jobs=1, n_neighbors=13, p=2,\n",
       "           weights='distance')"
      ]
     },
     "execution_count": 234,
     "metadata": {},
     "output_type": "execute_result"
    }
   ],
   "source": [
    "\n",
    "from sklearn.neighbors import KNeighborsClassifier  \n",
    "#for weights in ['uniform', 'distance']:\n",
    "classifier = KNeighborsClassifier(n_neighbors=13,weights=weights)  \n",
    "classifier.fit(A_train, b_train)  "
   ]
  },
  {
   "cell_type": "code",
   "execution_count": 235,
   "metadata": {},
   "outputs": [
    {
     "data": {
      "text/plain": [
       "0.8106532396978932"
      ]
     },
     "execution_count": 235,
     "metadata": {},
     "output_type": "execute_result"
    }
   ],
   "source": [
    "\n",
    "b_pred = classifier.predict(a_test)  \n",
    "\n",
    "from sklearn.metrics import accuracy_score\n",
    "accuracy_score(b_test, b_pred)"
   ]
  },
  {
   "cell_type": "code",
   "execution_count": 236,
   "metadata": {},
   "outputs": [
    {
     "name": "stdout",
     "output_type": "stream",
     "text": [
      "[[   0    2    0   28   26   49]\n",
      " [   0   16    0  127  397    0]\n",
      " [   0    0   37   53  355  207]\n",
      " [   0    1    0  479 1411    0]\n",
      " [   0    9    0  193 4112    0]\n",
      " [   0    0    0    0    0 7592]]\n",
      "             precision    recall  f1-score   support\n",
      "\n",
      "         00       0.00      0.00      0.00       105\n",
      "         10       0.57      0.03      0.06       540\n",
      "         11       1.00      0.06      0.11       652\n",
      "         20       0.54      0.25      0.35      1891\n",
      "         21       0.65      0.95      0.77      4314\n",
      "         22       0.97      1.00      0.98      7592\n",
      "\n",
      "avg / total       0.80      0.81      0.77     15094\n",
      "\n"
     ]
    },
    {
     "name": "stderr",
     "output_type": "stream",
     "text": [
      "/Users/ravs/anaconda3/lib/python3.6/site-packages/sklearn/metrics/classification.py:1135: UndefinedMetricWarning: Precision and F-score are ill-defined and being set to 0.0 in labels with no predicted samples.\n",
      "  'precision', 'predicted', average, warn_for)\n"
     ]
    }
   ],
   "source": [
    "from sklearn.metrics import classification_report, confusion_matrix  \n",
    "print(confusion_matrix(b_test, b_pred))  \n",
    "print(classification_report(b_test, b_pred))  "
   ]
  },
  {
   "cell_type": "code",
   "execution_count": 237,
   "metadata": {},
   "outputs": [],
   "source": [
    "error = []\n",
    "\n",
    "# Calculating error for K values between 1 and 40\n",
    "for i in range(1, 20):  \n",
    "    knn = KNeighborsClassifier(n_neighbors=i)\n",
    "    knn.fit(A_train, b_train)\n",
    "    pred_i = knn.predict(a_test)\n",
    "    error.append(np.mean(pred_i != y_test))"
   ]
  },
  {
   "cell_type": "code",
   "execution_count": 238,
   "metadata": {},
   "outputs": [
    {
     "data": {
      "text/plain": [
       "Text(0,0.5,'Mean Error')"
      ]
     },
     "execution_count": 238,
     "metadata": {},
     "output_type": "execute_result"
    },
    {
     "data": {
      "image/png": "[encoded data removed]",
      "text/plain": [
       "<Figure size 864x432 with 1 Axes>"
      ]
     },
     "metadata": {},
     "output_type": "display_data"
    }
   ],
   "source": [
    "plt.figure(figsize=(12, 6))  \n",
    "plt.plot(range(1, 20), error, color='red', linestyle='dashed', marker='o',  \n",
    "         markerfacecolor='blue', markersize=10)\n",
    "plt.title('Error Rate K Value')  \n",
    "plt.xlabel('K Value')  \n",
    "plt.ylabel('Mean Error')  "
   ]
  },
  {
   "cell_type": "code",
   "execution_count": 239,
   "metadata": {},
   "outputs": [
    {
     "data": {
      "text/plain": [
       "<seaborn.axisgrid.FacetGrid at 0x1a1a2952b0>"
      ]
     },
     "execution_count": 239,
     "metadata": {},
     "output_type": "execute_result"
    },
    {
     "data": {
      "image/png": "[encoded data removed]",
      "text/plain": [
       "<Figure size 437x360 with 1 Axes>"
      ]
     },
     "metadata": {},
     "output_type": "display_data"
    }
   ],
   "source": [
    "import seaborn\n",
    "\n",
    "seaborn.lmplot('Alignment Score', 'Gene Type', data=result1, \n",
    "       fit_reg=False,hue=\"Disease Class\", scatter_kws={\"marker\": \"D\",\"s\": 100})"
   ]
  },
  {
   "cell_type": "code",
   "execution_count": 246,
   "metadata": {
    "scrolled": true
   },
   "outputs": [
    {
     "data": {
      "text/plain": [
       "<seaborn.axisgrid.FacetGrid at 0x1a19594240>"
      ]
     },
     "execution_count": 246,
     "metadata": {},
     "output_type": "execute_result"
    },
    {
     "data": {
      "image/png": "[encoded data removed]",
      "text/plain": [
       "<Figure size 437x360 with 1 Axes>"
      ]
     },
     "metadata": {},
     "output_type": "display_data"
    }
   ],
   "source": [
    "import seaborn\n",
    "\n",
    "seaborn.lmplot('Alignment Score','Disease Class', data=result, \n",
    "       fit_reg=False,hue=\"Disease Class\", scatter_kws={\"marker\": \"D\",\"s\": 100})"
   ]
  },
  {
   "cell_type": "code",
   "execution_count": null,
   "metadata": {},
   "outputs": [],
   "source": []
  }
 ],
 "metadata": {
  "kernelspec": {
   "display_name": "Python 3",
   "language": "python",
   "name": "python3"
  },
  "language_info": {
   "codemirror_mode": {
    "name": "ipython",
    "version": 3
   },
   "file_extension": ".py",
   "mimetype": "text/x-python",
   "name": "python",
   "nbconvert_exporter": "python",
   "pygments_lexer": "ipython3",
   "version": "3.6.5"
  }
 },
 "nbformat": 4,
 "nbformat_minor": 2
}
